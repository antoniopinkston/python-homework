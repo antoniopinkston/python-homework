{
 "cells": [
  {
   "cell_type": "code",
   "execution_count": 81,
   "metadata": {},
   "outputs": [
    {
     "name": "stdout",
     "output_type": "stream",
     "text": [
      "Financial Analysis\n",
      "-------------------------------\n",
      "Total Months:  0\n",
      "Net Total: $ 0\n",
      "Average Change Entire Period: $ -2315\n",
      "Greatest Increase in Profits:   ($ 1926159 )\n",
      "Greatest Decrease in Profits:   ($ -2196167 )\n"
     ]
    }
   ],
   "source": [
    "from pathlib import Path\n",
    "import os\n",
    "import csv\n",
    "\n",
    "csv_path = Path(\"C:/Users/Squid Ink Tony/OneDrive/Desktop/python-homework/PyBank/budget_data.csv\")\n",
    "\n",
    "# Open and read the CSV\n",
    "with open(csv_path, 'r') as csvfile:\n",
    "\n",
    "    #print(csvreader)\n",
    "        \n",
    "    # Read header row, print it, set it aside\n",
    "    csvreader = csv.reader(csvfile, delimiter=',')\n",
    "    csv_header = next(csvreader)\n",
    "    \n",
    "    \n",
    "    # Declare variables as empty lists\n",
    "    Months = []\n",
    "    Profit_Loss = []\n",
    "    Differences = []\n",
    "    Greatest_Increase_Date = \"\"\n",
    "    Greatest_Decrease_Date = \"\"\n",
    "    \n",
    "    \n",
    "    # Count total number of months the data encapsulates\n",
    "    for row in csvreader:\n",
    "        Months.append(row[0])   \n",
    "        Profit_Loss.append(int(row[1]))\n",
    "        \n",
    "    # Print Statements\n",
    "    print(\"Financial Analysis\")\n",
    "    print(\"-------------------------------\")\n",
    "    print(\"Total Months: \", len(Months))\n",
    "    print(\"Net Total: $\", sum(Profit_Loss))\n",
    "    \n",
    "    for i in range(1, len(Profit_Loss)):\n",
    "        \n",
    "        # Find average change between months\n",
    "        Differences.append(Profit_Loss[i] - Profit_Loss[i-1])\n",
    "        \n",
    "        # Find average of values\n",
    "        Average_Change = sum(Differences) / len(Differences)\n",
    "        \n",
    "        # Determine greatest increase and date\n",
    "        Greatest_Increase = max(Differences)\n",
    "        Greatest_Increase_Date = str(Months[Differences.index(max(Differences))])\n",
    "                \n",
    "        # Determine greatest decrease and date\n",
    "        Greatest_Decrease = min(Differences)\n",
    "        Greatest_Decrease_Date = str(Months[Differences.index(min(Differences))])\n",
    "    \n",
    "    # Print Statements\n",
    "    print(\"Average Change Entire Period: $\", round(Average_Change))  \n",
    "    print(\"Greatest Increase in Profits: \", Greatest_Increase_Date, \"($\", Greatest_Increase,\")\")\n",
    "    print(\"Greatest Decrease in Profits: \", Greatest_Decrease_Date, \"($\", Greatest_Decrease,\")\")  \n",
    "    \n",
    "with open('PyBank.txt', 'w') as text:\n",
    "    text.write(\"  Financial Analysis\"+ \"\\n\")\n",
    "    text.write(\"----------------------------------------------------------\\n\")\n",
    "    text.write(\"    Total Months: \" + str(len(Months)) + \"\\n\")\n",
    "    text.write(\"    Net Total: \" + \"$\" + str(sum(Profit_Loss)) +\"\\n\")\n",
    "    text.write(\"    Average Change Entire Period: \" + '$' + str(round(Average_Change)) + \"\\n\")\n",
    "    text.write(\"    Greatest Increase in Profits: \" + str(Greatest_Increase_Date) + \" ($\" + str(Greatest_Increase,) + \")\\n\")\n",
    "    text.write(\"    Greatest Decrease in Profits: \" + str(Greatest_Decrease_Date) + \" ($\" + str(Greatest_Decrease,) + \")\\n\")\n",
    "    \n"
   ]
  },
  {
   "cell_type": "code",
   "execution_count": null,
   "metadata": {},
   "outputs": [],
   "source": []
  }
 ],
 "metadata": {
  "kernelspec": {
   "display_name": "Python 3",
   "language": "python",
   "name": "python3"
  },
  "language_info": {
   "codemirror_mode": {
    "name": "ipython",
    "version": 3
   },
   "file_extension": ".py",
   "mimetype": "text/x-python",
   "name": "python",
   "nbconvert_exporter": "python",
   "pygments_lexer": "ipython3",
   "version": "3.8.3"
  }
 },
 "nbformat": 4,
 "nbformat_minor": 4
}
