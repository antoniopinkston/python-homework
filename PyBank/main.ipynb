{
 "cells": [
  {
   "cell_type": "code",
   "execution_count": 99,
   "metadata": {},
   "outputs": [],
   "source": [
    "from pathlib import Path\n",
    "import csv\n",
    "\n",
    "csvpath = Path(\"C:/Users/Squid Ink Tony/OneDrive/Desktop/python-homework/PyBank/budget_data.csv\")"
   ]
  },
  {
   "cell_type": "code",
   "execution_count": 111,
   "metadata": {},
   "outputs": [
    {
     "name": "stdout",
     "output_type": "stream",
     "text": [
      "Financial Analysis\n",
      "-------------------------------\n",
      "Total Months:  86\n",
      "Net Total: $ 38382578\n",
      "Average Change Entire Period: $ -2315\n",
      "Greatest Increase in Profits:   ($ 1926159 )\n",
      "Greatest Decrease in Profits:   ($ -2196167 )\n"
     ]
    }
   ],
   "source": [
    "# Open and read the CSV\n",
    "with open(csvpath, 'r') as csvfile:\n",
    "\n",
    "    #print(csvreader)\n",
    "        \n",
    "    # Read header row, print it, set it aside\n",
    "    csvreader = csv.reader(csvfile, delimiter=',')\n",
    "    csv_header = next(csvreader)\n",
    "    \n",
    "    \n",
    "    # Declare variables as empty lists\n",
    "    Months = []\n",
    "    Profit_Loss = []\n",
    "    Differences = []\n",
    "    Greatest_Increase_Date = \"\"\n",
    "    Greatest_Decrease_Date = \"\"\n",
    "    \n",
    "    \n",
    "    # Count total number of months the data encapsulates\n",
    "    for row in csvreader:\n",
    "        Months.append(row[0])   \n",
    "        Profit_Loss.append(int(row[1]))\n",
    "        \n",
    "    # Print Statements\n",
    "    print(\"Financial Analysis\")\n",
    "    print(\"-------------------------------\")\n",
    "    print(\"Total Months: \", len(Months))\n",
    "    print(\"Net Total: $\", sum(Profit_Loss))\n",
    "    \n",
    "    # Print Statements\n",
    "    print(\"Average Change Entire Period: $\", round(Average_Change))  \n",
    "    print(\"Greatest Increase in Profits: \", Greatest_Increase_Date, \"($\", Greatest_Increase,\")\")\n",
    "    print(\"Greatest Decrease in Profits: \", Greatest_Decrease_Date, \"($\", Greatest_Decrease,\")\")\n",
    "   "
   ]
  },
  {
   "cell_type": "code",
   "execution_count": null,
   "metadata": {},
   "outputs": [],
   "source": []
  },
  {
   "cell_type": "code",
   "execution_count": null,
   "metadata": {},
   "outputs": [],
   "source": []
  }
 ],
 "metadata": {
  "kernelspec": {
   "display_name": "Python 3",
   "language": "python",
   "name": "python3"
  },
  "language_info": {
   "codemirror_mode": {
    "name": "ipython",
    "version": 3
   },
   "file_extension": ".py",
   "mimetype": "text/x-python",
   "name": "python",
   "nbconvert_exporter": "python",
   "pygments_lexer": "ipython3",
   "version": "3.8.3"
  }
 },
 "nbformat": 4,
 "nbformat_minor": 4
}
